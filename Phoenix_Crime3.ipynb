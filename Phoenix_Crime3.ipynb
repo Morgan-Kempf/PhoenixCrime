{
 "cells": [
  {
   "cell_type": "markdown",
   "id": "ce7c3b59",
   "metadata": {},
   "source": [
    "Importing pandas and bringing in the .csv file as a dataframe."
   ]
  },
  {
   "cell_type": "code",
   "execution_count": null,
   "id": "a80f7c76",
   "metadata": {},
   "outputs": [],
   "source": [
    "import pandas as pd"
   ]
  },
  {
   "cell_type": "code",
   "execution_count": null,
   "id": "0e5faa3f",
   "metadata": {},
   "outputs": [],
   "source": [
    "crimes = pd.read_csv('crimestat.csv')\n",
    "crimes"
   ]
  },
  {
   "cell_type": "markdown",
   "id": "58af515f",
   "metadata": {},
   "source": [
    "Dates seem like a good place to start. Maybe see if specific crimes are going up or down over time. I'm guessing those values are strings, though, so might be dificult to work with."
   ]
  },
  {
   "cell_type": "code",
   "execution_count": null,
   "id": "6b234dca",
   "metadata": {},
   "outputs": [],
   "source": [
    "crimes.dtypes"
   ]
  },
  {
   "cell_type": "markdown",
   "id": "1e4a3616",
   "metadata": {},
   "source": [
    "need to convert dates to datetime objects... but when i tried it, 'OCCURRED ON' has a space, so removing it."
   ]
  },
  {
   "cell_type": "code",
   "execution_count": null,
   "id": "b23a20d4",
   "metadata": {},
   "outputs": [],
   "source": [
    "crimes = crimes.rename(columns={'OCCURRED ON': 'OCCURRED_ON', 'OCCURRED TO': 'OCCURRED_TO'})\n",
    "crimes"
   ]
  },
  {
   "cell_type": "markdown",
   "id": "0fa7df8e",
   "metadata": {},
   "source": [
    "ok, now converting to datetime object"
   ]
  },
  {
   "cell_type": "code",
   "execution_count": null,
   "id": "3a6b41f8",
   "metadata": {},
   "outputs": [],
   "source": [
    "crimes['OCCURRED_ON'] = pd.to_datetime(crimes.OCCURRED_ON, format=r'%m/%d/%Y %H:%M')\n",
    "crimes['OCCURRED_TO'] = pd.to_datetime(crimes.OCCURRED_TO, format=r'%m/%d/%Y %H:%M')\n",
    "crimes.dtypes"
   ]
  },
  {
   "cell_type": "markdown",
   "id": "5f15dde4",
   "metadata": {},
   "source": [
    "Edit: I came back up here to reformat the time and make things more readable in the graph below... but don't want to overwrite data, so making a new colum that breaks the dates down by month."
   ]
  },
  {
   "cell_type": "code",
   "execution_count": null,
   "id": "d1da4a5e",
   "metadata": {},
   "outputs": [],
   "source": [
    "crimes['Month'] = crimes['OCCURRED_ON'].dt.strftime('%Y-%m')\n",
    "crimes"
   ]
  },
  {
   "cell_type": "markdown",
   "id": "f8bf2da4",
   "metadata": {},
   "source": [
    "Grouping by crime category, but I find groupby object harder to work with so using \"as_index=False\" to make it stay as a DataFrame."
   ]
  },
  {
   "cell_type": "code",
   "execution_count": null,
   "id": "ba1f7ad4",
   "metadata": {},
   "outputs": [],
   "source": [
    "group = crimes[['UCR CRIME CATEGORY', 'Month']].groupby('UCR CRIME CATEGORY', as_index=False).value_counts()\n",
    "group"
   ]
  },
  {
   "cell_type": "markdown",
   "id": "bdcc4f01",
   "metadata": {},
   "source": [
    "Think I can use a pivot table here to get the setup I was going for."
   ]
  },
  {
   "cell_type": "code",
   "execution_count": null,
   "id": "98425e01",
   "metadata": {},
   "outputs": [],
   "source": [
    "pivot = group.pivot_table(values='count', columns='UCR CRIME CATEGORY', index='Month')\n",
    "pivot"
   ]
  },
  {
   "cell_type": "markdown",
   "id": "43f76b58",
   "metadata": {},
   "source": [
    "Nice! It worked. Ok, now lets try to plot it and see if we notice anything interesting in the data."
   ]
  },
  {
   "cell_type": "code",
   "execution_count": null,
   "id": "2f86abcd",
   "metadata": {},
   "outputs": [],
   "source": [
    "pivot.plot()"
   ]
  },
  {
   "cell_type": "markdown",
   "id": "151ab96f",
   "metadata": {},
   "source": [
    "Looks like LARCENY/THEFT is the highest one... and has some interesting peaks and valleys. Let's take a closer look."
   ]
  },
  {
   "cell_type": "code",
   "execution_count": null,
   "id": "1634ef36",
   "metadata": {},
   "outputs": [],
   "source": [
    "pivot['LARCENY-THEFT'].plot()"
   ]
  },
  {
   "cell_type": "markdown",
   "id": "8bbc0137",
   "metadata": {},
   "source": [
    "I think that does it for this one. Not sure if I'll go for the advanced version, but if I do I'll probably see what I can find about the dates where there are significant changes in the amount of Theft/Larceny cases."
   ]
  }
 ],
 "metadata": {
  "kernelspec": {
   "display_name": "Python (mod3)",
   "language": "python",
   "name": "mod3"
  },
  "language_info": {
   "codemirror_mode": {
    "name": "ipython",
    "version": 3
   },
   "file_extension": ".py",
   "mimetype": "text/x-python",
   "name": "python",
   "nbconvert_exporter": "python",
   "pygments_lexer": "ipython3",
   "version": "3.9.10"
  }
 },
 "nbformat": 4,
 "nbformat_minor": 5
}
